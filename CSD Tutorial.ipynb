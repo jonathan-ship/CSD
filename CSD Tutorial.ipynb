{
 "cells": [
  {
   "cell_type": "markdown",
   "metadata": {},
   "source": [
    "\n",
    "# CSD 튜토리얼\n"
   ]
  },
  {
   "cell_type": "code",
   "execution_count": 1,
   "metadata": {},
   "outputs": [],
   "source": [
    "import numpy as np\n",
    "import pandas as pd\n",
    "import scipy.stats as st\n",
    "import statsmodels as sm\n",
    "import matplotlib\n",
    "import matplotlib.pyplot as plt\n",
    "import warnings\n",
    "import time"
   ]
  },
  {
   "cell_type": "code",
   "execution_count": 2,
   "metadata": {},
   "outputs": [],
   "source": [
    "import CSD"
   ]
  },
  {
   "cell_type": "markdown",
   "metadata": {},
   "source": [
    "## 1. 계산 실행\n",
    "\n",
    "\n",
    "기본적으로 하나의 연속된 일련의 공정 데이터를 분석하기 위해서는 하나의 CSD_Calculator class object를 사용한다.\n",
    "\n",
    "CSD_Calculator 생성시에는 기본적으로\n",
    " 1. csv_name : 분석하고자하는 파일명. string\n",
    " 2. start_dates, final_dates : 분석하고자 하는 각 대상 공정들의 시작일/종료일의 칼럼명. list of string\n",
    " 3. process_names : 분석하고자 하는 공정의 이름. list of string\n",
    " 4. set_m : 각 공정이 보유하는 기계 대수. list of integer\n",
    "    또는\n",
    "    set_u : 전체 공정이 가지는 utilization 수치. double between 0 and 1 \n",
    " parameter를 명시해줘야 한다.\n",
    "\n",
    "이외에도 추가적으로\n",
    " 1. time_range : 분석하고자 하는 시간 범위. list of integer\n",
    " 2. del_nan : 빈 칸이 있는 행을 삭제할 지 여부. boolean\n",
    " 3. del_inconsistency : 한 공정의 종료일이 시작일보다 앞에 있는 행을 삭제할 지 여부. boolean\n",
    " parameter를 명시해줌으로써 전처리 옵션을 선택해 줄 수 있다. (기본값은 None, True, True)"
   ]
  },
  {
   "cell_type": "code",
   "execution_count": 3,
   "metadata": {},
   "outputs": [],
   "source": [
    "csv_name = 'block_transfer_list_Raw_Data.csv'\n",
    "SD = ['ASSY_ACTL_SD','OFT_ACTL_SD','PNT_ACTL_SD']\n",
    "FD = ['ASSY_ACTL_FD','OFT_ACTL_FD','PNT_ACTL_FD']\n",
    "process_names = ['ASSY_ACTL','OFT_ACTL','PNT_ACTL']\n",
    "set_m = [300, 270, 240]"
   ]
  },
  {
   "cell_type": "code",
   "execution_count": 4,
   "metadata": {},
   "outputs": [
    {
     "name": "stdout",
     "output_type": "stream",
     "text": [
      "11.36531949043274\n"
     ]
    }
   ],
   "source": [
    "temp = time.time()\n",
    "csd = CSD.CSD_Calculator(csv_name, start_dates = SD, final_dates = FD, set_m = set_m, set_u = None,\n",
    "                 process_names = process_names, time_range = [20150101, 20180101], del_nan = True, del_inconsistency = True)\n",
    "print(time.time() - temp)"
   ]
  },
  {
   "cell_type": "markdown",
   "metadata": {},
   "source": [
    "\n",
    "위와 같이 필요한 정보를 입력하고 CSD_Calculator 객체를 생성해주면 자동으로 전처리 및 필요한 계수 계산을 진행한다.\n",
    "\n",
    "계산 결과는 객체 내부에 DataFrame 형태로 저장되며, 다음과 같이 호출할 수 있다.\n"
   ]
  },
  {
   "cell_type": "markdown",
   "metadata": {},
   "source": [
    "## 2. 결과 확인"
   ]
  },
  {
   "cell_type": "markdown",
   "metadata": {},
   "source": [
    "### 1) 기본 계수\n",
    "\n",
    "도착률(Ra), 도착간 시간 변동성계수(Ca),\n",
    "\n",
    "작업시간(Te), 작업시간 변동성 계수(Ce),\n",
    "\n",
    "출발률(Rd), 출발간시간 변동성 계수(Cd),\n",
    "\n",
    "기계 대수(m), 가동률(u)\n",
    "\n",
    "등 각 공정별 기본적인 변수들은 다음과 같이 클래스 내부에 var_table이란 이름의 DataFrame으로 저장된다."
   ]
  },
  {
   "cell_type": "code",
   "execution_count": 5,
   "metadata": {},
   "outputs": [
    {
     "data": {
      "text/html": [
       "<div>\n",
       "<style scoped>\n",
       "    .dataframe tbody tr th:only-of-type {\n",
       "        vertical-align: middle;\n",
       "    }\n",
       "\n",
       "    .dataframe tbody tr th {\n",
       "        vertical-align: top;\n",
       "    }\n",
       "\n",
       "    .dataframe thead th {\n",
       "        text-align: right;\n",
       "    }\n",
       "</style>\n",
       "<table border=\"1\" class=\"dataframe\">\n",
       "  <thead>\n",
       "    <tr style=\"text-align: right;\">\n",
       "      <th></th>\n",
       "      <th>ASSY_ACTL</th>\n",
       "      <th>OFT_ACTL</th>\n",
       "      <th>PNT_ACTL</th>\n",
       "    </tr>\n",
       "  </thead>\n",
       "  <tbody>\n",
       "    <tr>\n",
       "      <th>Ra</th>\n",
       "      <td>16.4858</td>\n",
       "      <td>16.4858</td>\n",
       "      <td>16.4858</td>\n",
       "    </tr>\n",
       "    <tr>\n",
       "      <th>Ca</th>\n",
       "      <td>4.13665</td>\n",
       "      <td>7.204</td>\n",
       "      <td>5.24745</td>\n",
       "    </tr>\n",
       "    <tr>\n",
       "      <th>Te</th>\n",
       "      <td>16.2346</td>\n",
       "      <td>15.6568</td>\n",
       "      <td>12.7662</td>\n",
       "    </tr>\n",
       "    <tr>\n",
       "      <th>Ce</th>\n",
       "      <td>1.12154</td>\n",
       "      <td>1.23115</td>\n",
       "      <td>0.506727</td>\n",
       "    </tr>\n",
       "    <tr>\n",
       "      <th>Rd</th>\n",
       "      <td>15.1443</td>\n",
       "      <td>14.3612</td>\n",
       "      <td>15.4159</td>\n",
       "    </tr>\n",
       "    <tr>\n",
       "      <th>Cd</th>\n",
       "      <td>5.81914</td>\n",
       "      <td>5.26195</td>\n",
       "      <td>4.94709</td>\n",
       "    </tr>\n",
       "    <tr>\n",
       "      <th>m</th>\n",
       "      <td>300</td>\n",
       "      <td>270</td>\n",
       "      <td>240</td>\n",
       "    </tr>\n",
       "    <tr>\n",
       "      <th>u</th>\n",
       "      <td>0.892136</td>\n",
       "      <td>0.955983</td>\n",
       "      <td>0.876923</td>\n",
       "    </tr>\n",
       "  </tbody>\n",
       "</table>\n",
       "</div>"
      ],
      "text/plain": [
       "   ASSY_ACTL  OFT_ACTL  PNT_ACTL\n",
       "Ra   16.4858   16.4858   16.4858\n",
       "Ca   4.13665     7.204   5.24745\n",
       "Te   16.2346   15.6568   12.7662\n",
       "Ce   1.12154   1.23115  0.506727\n",
       "Rd   15.1443   14.3612   15.4159\n",
       "Cd   5.81914   5.26195   4.94709\n",
       "m        300       270       240\n",
       "u   0.892136  0.955983  0.876923"
      ]
     },
     "execution_count": 5,
     "metadata": {},
     "output_type": "execute_result"
    }
   ],
   "source": [
    "csd.var_table"
   ]
  },
  {
   "cell_type": "markdown",
   "metadata": {},
   "source": [
    "### 2) 주요 결과 값\n",
    "\n",
    "CTq, CT,\n",
    "\n",
    "WIPq, WIP\n",
    "\n",
    "등 각 공정별 주요 결과 지표들은 다음과 같이 클래스 내부에 result_table이란 이름의 DataFrame으로 저장된다."
   ]
  },
  {
   "cell_type": "code",
   "execution_count": 6,
   "metadata": {},
   "outputs": [
    {
     "data": {
      "text/html": [
       "<div>\n",
       "<style scoped>\n",
       "    .dataframe tbody tr th:only-of-type {\n",
       "        vertical-align: middle;\n",
       "    }\n",
       "\n",
       "    .dataframe tbody tr th {\n",
       "        vertical-align: top;\n",
       "    }\n",
       "\n",
       "    .dataframe thead th {\n",
       "        text-align: right;\n",
       "    }\n",
       "</style>\n",
       "<table border=\"1\" class=\"dataframe\">\n",
       "  <thead>\n",
       "    <tr style=\"text-align: right;\">\n",
       "      <th></th>\n",
       "      <th>ASSY_ACTL</th>\n",
       "      <th>OFT_ACTL</th>\n",
       "      <th>PNT_ACTL</th>\n",
       "    </tr>\n",
       "  </thead>\n",
       "  <tbody>\n",
       "    <tr>\n",
       "      <th>CTq</th>\n",
       "      <td>0.313965</td>\n",
       "      <td>1.40513</td>\n",
       "      <td>0.0216376</td>\n",
       "    </tr>\n",
       "    <tr>\n",
       "      <th>CT</th>\n",
       "      <td>16.5486</td>\n",
       "      <td>17.0619</td>\n",
       "      <td>12.7878</td>\n",
       "    </tr>\n",
       "    <tr>\n",
       "      <th>WIPq</th>\n",
       "      <td>5.17597</td>\n",
       "      <td>23.1647</td>\n",
       "      <td>0.356714</td>\n",
       "    </tr>\n",
       "    <tr>\n",
       "      <th>WIP</th>\n",
       "      <td>272.817</td>\n",
       "      <td>281.28</td>\n",
       "      <td>210.818</td>\n",
       "    </tr>\n",
       "  </tbody>\n",
       "</table>\n",
       "</div>"
      ],
      "text/plain": [
       "     ASSY_ACTL OFT_ACTL   PNT_ACTL\n",
       "CTq   0.313965  1.40513  0.0216376\n",
       "CT     16.5486  17.0619    12.7878\n",
       "WIPq   5.17597  23.1647   0.356714\n",
       "WIP    272.817   281.28    210.818"
      ]
     },
     "execution_count": 6,
     "metadata": {},
     "output_type": "execute_result"
    }
   ],
   "source": [
    "csd.result_table"
   ]
  },
  {
   "cell_type": "markdown",
   "metadata": {},
   "source": [
    "### 3) 기타 중간 산출 데이터\n",
    "\n",
    "주요 변수 외에도, 작업 날짜 기록, 각 공정별 작업시간, 각 공정별 도착간 시간 간격을 내부에 저장하여 호출할 수 있다.\n"
   ]
  },
  {
   "cell_type": "markdown",
   "metadata": {},
   "source": [
    "#### 전처리 완료된 공정별 시작/종료 날짜 테이블\n",
    "\n",
    "클래스 내부에 df_dates라는 이름의 DataFrame으로 저장"
   ]
  },
  {
   "cell_type": "code",
   "execution_count": 7,
   "metadata": {},
   "outputs": [
    {
     "data": {
      "text/html": [
       "<div>\n",
       "<style scoped>\n",
       "    .dataframe tbody tr th:only-of-type {\n",
       "        vertical-align: middle;\n",
       "    }\n",
       "\n",
       "    .dataframe tbody tr th {\n",
       "        vertical-align: top;\n",
       "    }\n",
       "\n",
       "    .dataframe thead th {\n",
       "        text-align: right;\n",
       "    }\n",
       "</style>\n",
       "<table border=\"1\" class=\"dataframe\">\n",
       "  <thead>\n",
       "    <tr style=\"text-align: right;\">\n",
       "      <th></th>\n",
       "      <th>ASSY_ACTL_SD_S</th>\n",
       "      <th>OFT_ACTL_SD_S</th>\n",
       "      <th>PNT_ACTL_SD_S</th>\n",
       "      <th>ASSY_ACTL_FD_F</th>\n",
       "      <th>OFT_ACTL_FD_F</th>\n",
       "      <th>PNT_ACTL_FD_F</th>\n",
       "    </tr>\n",
       "  </thead>\n",
       "  <tbody>\n",
       "    <tr>\n",
       "      <th>17914</th>\n",
       "      <td>2015-01-21</td>\n",
       "      <td>2015-02-05</td>\n",
       "      <td>2015-02-26</td>\n",
       "      <td>2015-02-03</td>\n",
       "      <td>2015-02-13</td>\n",
       "      <td>2015-03-09</td>\n",
       "    </tr>\n",
       "    <tr>\n",
       "      <th>17981</th>\n",
       "      <td>2015-01-03</td>\n",
       "      <td>2015-01-27</td>\n",
       "      <td>2015-02-25</td>\n",
       "      <td>2015-01-30</td>\n",
       "      <td>2015-02-23</td>\n",
       "      <td>2015-03-09</td>\n",
       "    </tr>\n",
       "    <tr>\n",
       "      <th>18032</th>\n",
       "      <td>2015-01-06</td>\n",
       "      <td>2015-02-04</td>\n",
       "      <td>2015-02-25</td>\n",
       "      <td>2015-01-31</td>\n",
       "      <td>2015-02-23</td>\n",
       "      <td>2015-03-10</td>\n",
       "    </tr>\n",
       "    <tr>\n",
       "      <th>18092</th>\n",
       "      <td>2015-01-03</td>\n",
       "      <td>2015-01-27</td>\n",
       "      <td>2015-03-06</td>\n",
       "      <td>2015-01-30</td>\n",
       "      <td>2015-02-23</td>\n",
       "      <td>2015-03-18</td>\n",
       "    </tr>\n",
       "    <tr>\n",
       "      <th>18102</th>\n",
       "      <td>2015-01-05</td>\n",
       "      <td>2015-01-30</td>\n",
       "      <td>2015-02-25</td>\n",
       "      <td>2015-02-07</td>\n",
       "      <td>2015-02-23</td>\n",
       "      <td>2015-03-09</td>\n",
       "    </tr>\n",
       "  </tbody>\n",
       "</table>\n",
       "</div>"
      ],
      "text/plain": [
       "      ASSY_ACTL_SD_S OFT_ACTL_SD_S PNT_ACTL_SD_S ASSY_ACTL_FD_F OFT_ACTL_FD_F  \\\n",
       "17914     2015-01-21    2015-02-05    2015-02-26     2015-02-03    2015-02-13   \n",
       "17981     2015-01-03    2015-01-27    2015-02-25     2015-01-30    2015-02-23   \n",
       "18032     2015-01-06    2015-02-04    2015-02-25     2015-01-31    2015-02-23   \n",
       "18092     2015-01-03    2015-01-27    2015-03-06     2015-01-30    2015-02-23   \n",
       "18102     2015-01-05    2015-01-30    2015-02-25     2015-02-07    2015-02-23   \n",
       "\n",
       "      PNT_ACTL_FD_F  \n",
       "17914    2015-03-09  \n",
       "17981    2015-03-09  \n",
       "18032    2015-03-10  \n",
       "18092    2015-03-18  \n",
       "18102    2015-03-09  "
      ]
     },
     "execution_count": 7,
     "metadata": {},
     "output_type": "execute_result"
    }
   ],
   "source": [
    "csd.df_dates.head()"
   ]
  },
  {
   "cell_type": "code",
   "execution_count": 8,
   "metadata": {},
   "outputs": [
    {
     "data": {
      "text/html": [
       "<div>\n",
       "<style scoped>\n",
       "    .dataframe tbody tr th:only-of-type {\n",
       "        vertical-align: middle;\n",
       "    }\n",
       "\n",
       "    .dataframe tbody tr th {\n",
       "        vertical-align: top;\n",
       "    }\n",
       "\n",
       "    .dataframe thead th {\n",
       "        text-align: right;\n",
       "    }\n",
       "</style>\n",
       "<table border=\"1\" class=\"dataframe\">\n",
       "  <thead>\n",
       "    <tr style=\"text-align: right;\">\n",
       "      <th></th>\n",
       "      <th>ASSY_ACTL_SD_S</th>\n",
       "      <th>OFT_ACTL_SD_S</th>\n",
       "      <th>PNT_ACTL_SD_S</th>\n",
       "      <th>ASSY_ACTL_FD_F</th>\n",
       "      <th>OFT_ACTL_FD_F</th>\n",
       "      <th>PNT_ACTL_FD_F</th>\n",
       "    </tr>\n",
       "  </thead>\n",
       "  <tbody>\n",
       "    <tr>\n",
       "      <th>count</th>\n",
       "      <td>18053</td>\n",
       "      <td>18053</td>\n",
       "      <td>18053</td>\n",
       "      <td>18053</td>\n",
       "      <td>18053</td>\n",
       "      <td>18053</td>\n",
       "    </tr>\n",
       "    <tr>\n",
       "      <th>unique</th>\n",
       "      <td>1054</td>\n",
       "      <td>1067</td>\n",
       "      <td>894</td>\n",
       "      <td>829</td>\n",
       "      <td>1000</td>\n",
       "      <td>925</td>\n",
       "    </tr>\n",
       "    <tr>\n",
       "      <th>top</th>\n",
       "      <td>2016-09-28 00:00:00</td>\n",
       "      <td>2015-12-14 00:00:00</td>\n",
       "      <td>2016-02-23 00:00:00</td>\n",
       "      <td>2015-08-31 00:00:00</td>\n",
       "      <td>2015-11-30 00:00:00</td>\n",
       "      <td>2016-02-29 00:00:00</td>\n",
       "    </tr>\n",
       "    <tr>\n",
       "      <th>freq</th>\n",
       "      <td>84</td>\n",
       "      <td>61</td>\n",
       "      <td>53</td>\n",
       "      <td>101</td>\n",
       "      <td>76</td>\n",
       "      <td>71</td>\n",
       "    </tr>\n",
       "    <tr>\n",
       "      <th>first</th>\n",
       "      <td>2015-01-01 00:00:00</td>\n",
       "      <td>2014-12-15 00:00:00</td>\n",
       "      <td>2015-01-11 00:00:00</td>\n",
       "      <td>2015-01-07 00:00:00</td>\n",
       "      <td>2015-01-05 00:00:00</td>\n",
       "      <td>2015-02-02 00:00:00</td>\n",
       "    </tr>\n",
       "    <tr>\n",
       "      <th>last</th>\n",
       "      <td>2017-12-31 00:00:00</td>\n",
       "      <td>2018-06-15 00:00:00</td>\n",
       "      <td>2018-03-29 00:00:00</td>\n",
       "      <td>2018-04-13 00:00:00</td>\n",
       "      <td>2018-06-15 00:00:00</td>\n",
       "      <td>2018-04-18 00:00:00</td>\n",
       "    </tr>\n",
       "  </tbody>\n",
       "</table>\n",
       "</div>"
      ],
      "text/plain": [
       "             ASSY_ACTL_SD_S        OFT_ACTL_SD_S        PNT_ACTL_SD_S  \\\n",
       "count                 18053                18053                18053   \n",
       "unique                 1054                 1067                  894   \n",
       "top     2016-09-28 00:00:00  2015-12-14 00:00:00  2016-02-23 00:00:00   \n",
       "freq                     84                   61                   53   \n",
       "first   2015-01-01 00:00:00  2014-12-15 00:00:00  2015-01-11 00:00:00   \n",
       "last    2017-12-31 00:00:00  2018-06-15 00:00:00  2018-03-29 00:00:00   \n",
       "\n",
       "             ASSY_ACTL_FD_F        OFT_ACTL_FD_F        PNT_ACTL_FD_F  \n",
       "count                 18053                18053                18053  \n",
       "unique                  829                 1000                  925  \n",
       "top     2015-08-31 00:00:00  2015-11-30 00:00:00  2016-02-29 00:00:00  \n",
       "freq                    101                   76                   71  \n",
       "first   2015-01-07 00:00:00  2015-01-05 00:00:00  2015-02-02 00:00:00  \n",
       "last    2018-04-13 00:00:00  2018-06-15 00:00:00  2018-04-18 00:00:00  "
      ]
     },
     "execution_count": 8,
     "metadata": {},
     "output_type": "execute_result"
    }
   ],
   "source": [
    "csd.df_dates.describe()"
   ]
  },
  {
   "cell_type": "markdown",
   "metadata": {},
   "source": [
    "#### 공정 별 작업 시간 테이블\n",
    "\n",
    "클래스 내부에 df_te라는 이름의 DataFrame으로 저장"
   ]
  },
  {
   "cell_type": "code",
   "execution_count": 9,
   "metadata": {
    "scrolled": true
   },
   "outputs": [
    {
     "data": {
      "text/html": [
       "<div>\n",
       "<style scoped>\n",
       "    .dataframe tbody tr th:only-of-type {\n",
       "        vertical-align: middle;\n",
       "    }\n",
       "\n",
       "    .dataframe tbody tr th {\n",
       "        vertical-align: top;\n",
       "    }\n",
       "\n",
       "    .dataframe thead th {\n",
       "        text-align: right;\n",
       "    }\n",
       "</style>\n",
       "<table border=\"1\" class=\"dataframe\">\n",
       "  <thead>\n",
       "    <tr style=\"text-align: right;\">\n",
       "      <th></th>\n",
       "      <th>ASSY_ACTL</th>\n",
       "      <th>OFT_ACTL</th>\n",
       "      <th>PNT_ACTL</th>\n",
       "    </tr>\n",
       "  </thead>\n",
       "  <tbody>\n",
       "    <tr>\n",
       "      <th>17914</th>\n",
       "      <td>14.0</td>\n",
       "      <td>9.0</td>\n",
       "      <td>12.0</td>\n",
       "    </tr>\n",
       "    <tr>\n",
       "      <th>17981</th>\n",
       "      <td>28.0</td>\n",
       "      <td>28.0</td>\n",
       "      <td>13.0</td>\n",
       "    </tr>\n",
       "    <tr>\n",
       "      <th>18032</th>\n",
       "      <td>26.0</td>\n",
       "      <td>20.0</td>\n",
       "      <td>14.0</td>\n",
       "    </tr>\n",
       "    <tr>\n",
       "      <th>18092</th>\n",
       "      <td>28.0</td>\n",
       "      <td>28.0</td>\n",
       "      <td>13.0</td>\n",
       "    </tr>\n",
       "    <tr>\n",
       "      <th>18102</th>\n",
       "      <td>34.0</td>\n",
       "      <td>25.0</td>\n",
       "      <td>13.0</td>\n",
       "    </tr>\n",
       "  </tbody>\n",
       "</table>\n",
       "</div>"
      ],
      "text/plain": [
       "       ASSY_ACTL  OFT_ACTL  PNT_ACTL\n",
       "17914       14.0       9.0      12.0\n",
       "17981       28.0      28.0      13.0\n",
       "18032       26.0      20.0      14.0\n",
       "18092       28.0      28.0      13.0\n",
       "18102       34.0      25.0      13.0"
      ]
     },
     "execution_count": 9,
     "metadata": {},
     "output_type": "execute_result"
    }
   ],
   "source": [
    "csd.df_te.head()"
   ]
  },
  {
   "cell_type": "markdown",
   "metadata": {},
   "source": [
    "#### 공정 별 도착(출발)간 시간 간격 테이블\n",
    "\n",
    "클래스 내부에 iat라는 이름의 Numpy ndarray로 저장"
   ]
  },
  {
   "cell_type": "code",
   "execution_count": 10,
   "metadata": {},
   "outputs": [
    {
     "data": {
      "text/plain": [
       "array([[1., 3., 0., 0., 5., 0.],\n",
       "       [0., 6., 0., 5., 1., 2.],\n",
       "       [0., 1., 9., 0., 2., 0.],\n",
       "       ...,\n",
       "       [0., 0., 1., 4., 0., 0.],\n",
       "       [1., 0., 0., 0., 0., 4.],\n",
       "       [0., 0., 5., 3., 0., 2.]])"
      ]
     },
     "execution_count": 10,
     "metadata": {},
     "output_type": "execute_result"
    }
   ],
   "source": [
    "csd.iat"
   ]
  },
  {
   "cell_type": "code",
   "execution_count": null,
   "metadata": {},
   "outputs": [],
   "source": []
  },
  {
   "cell_type": "markdown",
   "metadata": {},
   "source": [
    "### ## 원하는 utilization 값 설정\n",
    "\n",
    "단순히 각 공정 별 기계 대수를 입력해주는 게 아니라, 원하는 가동률(utilization)에 해당하는 기계값을 자동으로 설정해주도록 할 수 있다.\n",
    "CSD_Calculator 클래스를 생성할 때 파라미터 set_m = None, set_u = (원하는 가동률 수준)을 설정해주면 된다.\n",
    "실행 예시는 다음과 같다."
   ]
  },
  {
   "cell_type": "code",
   "execution_count": 11,
   "metadata": {},
   "outputs": [],
   "source": [
    "csv_name = 'block_transfer_list_Raw_Data.csv'\n",
    "SD = ['ASSY_ACTL_SD','OFT_ACTL_SD','PNT_ACTL_SD']\n",
    "FD = ['ASSY_ACTL_FD','OFT_ACTL_FD','PNT_ACTL_FD']\n",
    "process_names = ['ASSY_ACTL','OFT_ACTL','PNT_ACTL']\n",
    "set_u = 0.97"
   ]
  },
  {
   "cell_type": "code",
   "execution_count": 12,
   "metadata": {},
   "outputs": [
    {
     "name": "stdout",
     "output_type": "stream",
     "text": [
      "9.388554811477661\n"
     ]
    }
   ],
   "source": [
    "### 원하는 utilization을 맞춰주는 기능\n",
    "temp = time.time()\n",
    "csd = CSD.CSD_Calculator(csv_name, start_dates = SD, final_dates = FD, set_m = None, set_u = set_u,\n",
    "                 process_names = process_names, time_range = [20150101, 20180101], del_nan = True, del_inconsistency = True)\n",
    "print(time.time() - temp)"
   ]
  },
  {
   "cell_type": "markdown",
   "metadata": {},
   "source": [
    "다음과 같이 utilization이 0.97이 되는 정수 m으로 맞춰진 것을 확인할 수 있다."
   ]
  },
  {
   "cell_type": "code",
   "execution_count": 13,
   "metadata": {},
   "outputs": [
    {
     "data": {
      "text/html": [
       "<div>\n",
       "<style scoped>\n",
       "    .dataframe tbody tr th:only-of-type {\n",
       "        vertical-align: middle;\n",
       "    }\n",
       "\n",
       "    .dataframe tbody tr th {\n",
       "        vertical-align: top;\n",
       "    }\n",
       "\n",
       "    .dataframe thead th {\n",
       "        text-align: right;\n",
       "    }\n",
       "</style>\n",
       "<table border=\"1\" class=\"dataframe\">\n",
       "  <thead>\n",
       "    <tr style=\"text-align: right;\">\n",
       "      <th></th>\n",
       "      <th>ASSY_ACTL</th>\n",
       "      <th>OFT_ACTL</th>\n",
       "      <th>PNT_ACTL</th>\n",
       "    </tr>\n",
       "  </thead>\n",
       "  <tbody>\n",
       "    <tr>\n",
       "      <th>Ra</th>\n",
       "      <td>16.4858</td>\n",
       "      <td>16.4858</td>\n",
       "      <td>16.4858</td>\n",
       "    </tr>\n",
       "    <tr>\n",
       "      <th>Ca</th>\n",
       "      <td>4.13665</td>\n",
       "      <td>7.204</td>\n",
       "      <td>5.24745</td>\n",
       "    </tr>\n",
       "    <tr>\n",
       "      <th>Te</th>\n",
       "      <td>16.2346</td>\n",
       "      <td>15.6568</td>\n",
       "      <td>12.7662</td>\n",
       "    </tr>\n",
       "    <tr>\n",
       "      <th>Ce</th>\n",
       "      <td>1.12154</td>\n",
       "      <td>1.23115</td>\n",
       "      <td>0.506727</td>\n",
       "    </tr>\n",
       "    <tr>\n",
       "      <th>Rd</th>\n",
       "      <td>15.1443</td>\n",
       "      <td>14.3612</td>\n",
       "      <td>15.4159</td>\n",
       "    </tr>\n",
       "    <tr>\n",
       "      <th>Cd</th>\n",
       "      <td>5.81914</td>\n",
       "      <td>5.26195</td>\n",
       "      <td>4.94709</td>\n",
       "    </tr>\n",
       "    <tr>\n",
       "      <th>m</th>\n",
       "      <td>276</td>\n",
       "      <td>266</td>\n",
       "      <td>217</td>\n",
       "    </tr>\n",
       "    <tr>\n",
       "      <th>u</th>\n",
       "      <td>0.969713</td>\n",
       "      <td>0.970359</td>\n",
       "      <td>0.969868</td>\n",
       "    </tr>\n",
       "  </tbody>\n",
       "</table>\n",
       "</div>"
      ],
      "text/plain": [
       "   ASSY_ACTL  OFT_ACTL  PNT_ACTL\n",
       "Ra   16.4858   16.4858   16.4858\n",
       "Ca   4.13665     7.204   5.24745\n",
       "Te   16.2346   15.6568   12.7662\n",
       "Ce   1.12154   1.23115  0.506727\n",
       "Rd   15.1443   14.3612   15.4159\n",
       "Cd   5.81914   5.26195   4.94709\n",
       "m        276       266       217\n",
       "u   0.969713  0.970359  0.969868"
      ]
     },
     "execution_count": 13,
     "metadata": {},
     "output_type": "execute_result"
    }
   ],
   "source": [
    "csd.var_table"
   ]
  },
  {
   "cell_type": "markdown",
   "metadata": {},
   "source": [
    "## 3. 분포 함수 피팅"
   ]
  },
  {
   "cell_type": "markdown",
   "metadata": {},
   "source": [
    "분포 함수 피팅을 위해서는 CSD 파일 내의 distribution_finder 함수를 이용하면 된다.\n",
    "\n",
    "이 때 CSD_Calculator 클래스와는 분리되어 있으므로, 피팅을 위해서 꼭 CSD_Calculator를 통한 처리를 거칠 필요 없이 원하는 어떤 데이터든지 피팅이 가능하다.\n",
    "\n",
    "인풋 데이터로는 Numpy ndarray, Pandas DataFrame, Pandas Series 모두 가능하게 설정해두었으며, 한 열의 데이터 당 하나의 분포함수를 피팅하도록 설정해두었다.\n",
    "\n",
    "\n",
    "\n",
    "distribution_finder 사용을 위해서는 다음 parameter들을 명시해줘야한다.\n",
    "\n",
    "1. table : 분포 함수 피팅을 하고자 하는 데이터. np.ndarray, pd.DataFrame, pd.Series\n",
    "2. quantile : 데이터 전처리 옵션. 해당 분위수 이상의 데이터를 삭제함. default = None. double between 0 and 1\n",
    "3. factor : 최적 분포함수 선정에 사용하는 지표. default = 'sse'. 'loglh' 선택 가능\n",
    "4. tunning : 일차적으로 피팅한 분포함수를 원래 데이터의 평균과 같은 평균을 가지도록 scale 파라미터를 조정할 지 여부를 결정. default = True. boolean\n",
    "5. accuracy : 분포함수 튜닝을 사용할 시, 원래 데이터의 평균과 얼마나 작은 오차의 평균을 가지도록 조정할 지 정해주는 값. default = 0.01. double\n",
    " * Inter Arrival Time을 피팅할 시, 0.0001 이하의 극히 작은 값 사용할 것 권장\n",
    "6. _round : 분포함수 튜닝을 사용할 시, 분포 함수가 발생시킨 값을 반올림해서 사용할 지 여부를 결정. 원래 데이터가 정수로 표현되어 있으면 True를 사용할 것 권장. default = True. boolean\n",
    " * 또한 기본적으로 튜닝시에는 nonnegative한 값만을 사용하도록 설정되어 있다.\n",
    "\n",
    "Output으로는 최종적으로 피팅된 Scipy.stats의 함수의 리스트, 파라미터의 리스트를 반환한다.\n",
    "또한 분포함수 이름과 파라미터를 출력해주고, 원래 데이터와 피팅 함수로 발생시킨 난수의 주요지표를 비교하는 항목도 출력해준다.\n",
    "\n",
    " * 자세한 사항은 다음 실행 예시 참고\n"
   ]
  },
  {
   "cell_type": "markdown",
   "metadata": {},
   "source": [
    "실행 예시는 다음과 같다.\n",
    "먼저, 앞서 CSD_Calculator를 통해 계산한 데이터의 작업시간에 대한 분포를 피팅해보자."
   ]
  },
  {
   "cell_type": "code",
   "execution_count": 14,
   "metadata": {
    "scrolled": true
   },
   "outputs": [
    {
     "name": "stdout",
     "output_type": "stream",
     "text": [
      "Distribution 0 is tunning...\n",
      "Tunned error : 0.004808870280841759\n",
      "Distribution 1 is tunning...\n",
      "Tunned error : 0.16979925769859783\n",
      "Distribution 2 is tunning...\n",
      "Tunned error : 0.00280024439448745\n",
      "\n",
      "\n",
      "\n",
      "Found distributions are :\n",
      "0 : exponnorm(K=5.13, loc=5.50, scale=1.86)\n",
      "1 : pareto(b=5.16, loc=-61.21, scale=56.90)\n",
      "2 : exponnorm(K=1.25, loc=8.66, scale=2.96)\n",
      "\n",
      "\n",
      "Comparing original data with fitted distribution\n",
      "0 : \n",
      "           Original        Fitting\n",
      "count  17875.000000  999934.000000\n",
      "mean      15.025287      15.029896\n",
      "std       10.599488       9.714085\n",
      "min        1.000000       0.000000\n",
      "25%        8.000000       8.000000\n",
      "50%       12.000000      12.000000\n",
      "75%       18.000000      19.000000\n",
      "max       75.000000     139.000000\n",
      "\n",
      "CV\n",
      "Original : 0.71    Fitting : 0.65\n",
      "\n",
      "\n",
      "\n",
      "1 : \n",
      "           Original        Fitting\n",
      "count  17876.000000  686004.000000\n",
      "mean      14.495637      14.703442\n",
      "std       14.216422      18.833585\n",
      "min        1.000000       0.000000\n",
      "25%        4.000000       4.000000\n",
      "50%        9.000000       9.000000\n",
      "75%       21.000000      19.000000\n",
      "max       85.000000     775.000000\n",
      "\n",
      "CV\n",
      "Original : 0.98    Fitting : 1.28\n",
      "\n",
      "\n",
      "\n",
      "2 : \n",
      "           Original        Fitting\n",
      "count  17882.000000  999648.000000\n",
      "mean      12.368415      12.366799\n",
      "std        4.743772       4.750814\n",
      "min        1.000000       0.000000\n",
      "25%        9.000000       9.000000\n",
      "50%       12.000000      12.000000\n",
      "75%       15.000000      15.000000\n",
      "max       35.000000      61.000000\n",
      "\n",
      "CV\n",
      "Original : 0.38    Fitting : 0.38\n",
      "\n",
      "\n",
      "\n",
      "Process finished in 58.36897611618042 sec\n"
     ]
    }
   ],
   "source": [
    "dist_list_te, params_list_te = CSD.distribution_finder(csd.df_te, quantile = 0.99, accuracy = 0.01, _round = True)"
   ]
  },
  {
   "cell_type": "markdown",
   "metadata": {},
   "source": [
    "분포함수 출력, 원래 데이터와 피팅함수 난수 발생 데이터 비교 분석 결과 출력이 잘 된 것을 확인할 수 있다.\n"
   ]
  },
  {
   "cell_type": "markdown",
   "metadata": {},
   "source": [
    "※ 참고 : 다음과 같이 생성된 함수와 파라미터의 구체적인 값의 확인 및 접근이 가능하다."
   ]
  },
  {
   "cell_type": "code",
   "execution_count": 15,
   "metadata": {},
   "outputs": [
    {
     "name": "stdout",
     "output_type": "stream",
     "text": [
      "<scipy.stats._continuous_distns.exponnorm_gen object at 0x0000026AB86B8E48>\n",
      "<scipy.stats._continuous_distns.pareto_gen object at 0x0000026AB8731208>\n",
      "<scipy.stats._continuous_distns.exponnorm_gen object at 0x0000026AB86B8E48>\n",
      "\n",
      "\n",
      "(5.126511134808928, 5.501172958260842, 1.8578156422458711)\n",
      "(5.164688646549719, -61.21309842264902, 56.897798202960416)\n",
      "(1.2500416914409835, 8.662929596117616, 2.9642987442454904)\n"
     ]
    }
   ],
   "source": [
    "for dist in dist_list_te:\n",
    "    print(dist)\n",
    "print('\\n')\n",
    "\n",
    "for params in params_list_te:\n",
    "    print(params)"
   ]
  },
  {
   "cell_type": "markdown",
   "metadata": {},
   "source": [
    "이렇게 피팅한 함수를 이용해 직접 난수를 발생시키고 싶다면 아래 코드를 참고하면 된다."
   ]
  },
  {
   "cell_type": "code",
   "execution_count": 16,
   "metadata": {},
   "outputs": [
    {
     "name": "stdout",
     "output_type": "stream",
     "text": [
      "CV : 0.65\n"
     ]
    },
    {
     "data": {
      "text/plain": [
       "count    999911.000000\n",
       "mean         15.043199\n",
       "std           9.709815\n",
       "min           0.000000\n",
       "25%           8.000000\n",
       "50%          12.000000\n",
       "75%          19.000000\n",
       "max         120.000000\n",
       "dtype: float64"
      ]
     },
     "execution_count": 16,
     "metadata": {},
     "output_type": "execute_result"
    }
   ],
   "source": [
    "dist = dist_list_te[0] #위의 distribution_finder 함수에서 반환한 분포함수들의 리스트에서 원하는 함수 선택\n",
    "params = params_list_te[0] #위의 distribution_finder 함수에서 반환한 파라미터들의 리스트에서 원하는 파라미터 선택\n",
    "\n",
    "#이 부분은 그냥 따라하면 된다\n",
    "arg = params[:-2]\n",
    "loc = params[-2]\n",
    "scale = params[-1]\n",
    "#선택한 분포에 따른 난수 생성\n",
    "a = dist.rvs(arg, loc, scale, size = 1000000)\n",
    "a = a[a > 0] # 처리 옵션 : nonnegative\n",
    "a = np.round(a) # 처리 옵션 : 반올림\n",
    "\n",
    "#데이터 타입을 pd.Series로 변환하여 난수가 제대로 발생됐는지 확인\n",
    "a = pd.Series(a)\n",
    "print(\"CV : \" + str(round(a.std() / a.mean(),2)))\n",
    "a.describe()"
   ]
  },
  {
   "cell_type": "markdown",
   "metadata": {},
   "source": [
    "도착간 시간 간격(inter arrival time)을 피팅한 결과 예시는 다음과 같다.\n",
    "\n",
    "※예시 데이터의 경우 극단값이 없기 때문에 quantile = None 사용\n",
    "\n",
    "※Inter Arrival Time을 피팅할 시, 평균의 작은 차이가 도착률(Ra)에 큰 영향을 미쳐 시뮬레이션 값이 큰 영향을 미치므로, 보다 정확한 피팅을 위해 accuracy = 0.0001 이하의 극히 작은 값 사용할 것 권장"
   ]
  },
  {
   "cell_type": "code",
   "execution_count": 17,
   "metadata": {},
   "outputs": [
    {
     "name": "stdout",
     "output_type": "stream",
     "text": [
      "Distribution 0 is tunning...\n",
      "Tunned error : 0.00021609882561488686\n",
      "Distribution 1 is tunning...\n",
      "Tunned error : 0.0004614797252382036\n",
      "Distribution 2 is tunning...\n",
      "Tunned error : 0.00029194970086417193\n",
      "Distribution 3 is tunning...\n",
      "Tunned error : 0.00033053534234434023\n",
      "Distribution 4 is tunning...\n",
      "Tunned error : 0.0004668262796365952\n",
      "Distribution 5 is tunning...\n",
      "Tunned error : 0.0006158413472191482\n",
      "\n",
      "\n",
      "\n",
      "Found distributions are :\n",
      "0 : chi2(df=1.53, loc=-0.00, scale=0.11)\n",
      "1 : chi2(df=1.53, loc=-0.00, scale=0.11)\n",
      "2 : chi2(df=1.53, loc=-0.00, scale=0.11)\n",
      "3 : chi2(df=1.53, loc=-0.00, scale=0.11)\n",
      "4 : chi2(df=1.53, loc=-0.00, scale=0.11)\n",
      "5 : chi2(df=1.53, loc=-0.00, scale=0.11)\n",
      "\n",
      "\n",
      "Comparing original data with fitted distribution\n",
      "0 : \n",
      "           Original         Fitting\n",
      "count  18052.000000  1000000.000000\n",
      "mean       0.060658        0.060150\n",
      "std        0.250928        0.239629\n",
      "min        0.000000        0.000000\n",
      "25%        0.000000        0.000000\n",
      "50%        0.000000        0.000000\n",
      "75%        0.000000        0.000000\n",
      "max        5.000000        3.000000\n",
      "\n",
      "CV\n",
      "Original : 4.14    Fitting : 3.98\n",
      "\n",
      "\n",
      "\n",
      "1 : \n",
      "           Original         Fitting\n",
      "count  18052.000000  1000000.000000\n",
      "mean       0.070795        0.070804\n",
      "std        0.510025        0.259200\n",
      "min        0.000000        0.000000\n",
      "25%        0.000000        0.000000\n",
      "50%        0.000000        0.000000\n",
      "75%        0.000000        0.000000\n",
      "max       49.000000        3.000000\n",
      "\n",
      "CV\n",
      "Original : 7.2    Fitting : 3.66\n",
      "\n",
      "\n",
      "\n",
      "2 : \n",
      "           Original         Fitting\n",
      "count  18052.000000  1000000.000000\n",
      "mean       0.064979        0.064775\n",
      "std        0.340983        0.248329\n",
      "min        0.000000        0.000000\n",
      "25%        0.000000        0.000000\n",
      "50%        0.000000        0.000000\n",
      "75%        0.000000        0.000000\n",
      "max        9.000000        3.000000\n",
      "\n",
      "CV\n",
      "Original : 5.25    Fitting : 3.83\n",
      "\n",
      "\n",
      "\n",
      "3 : \n",
      "           Original         Fitting\n",
      "count  18052.000000  1000000.000000\n",
      "mean       0.066031        0.066435\n",
      "std        0.384257        0.251467\n",
      "min        0.000000        0.000000\n",
      "25%        0.000000        0.000000\n",
      "50%        0.000000        0.000000\n",
      "75%        0.000000        0.000000\n",
      "max       19.000000        3.000000\n",
      "\n",
      "CV\n",
      "Original : 5.82    Fitting : 3.79\n",
      "\n",
      "\n",
      "\n",
      "4 : \n",
      "           Original         Fitting\n",
      "count  18052.000000  1000000.000000\n",
      "mean       0.069632        0.069776\n",
      "std        0.366411        0.257471\n",
      "min        0.000000        0.000000\n",
      "25%        0.000000        0.000000\n",
      "50%        0.000000        0.000000\n",
      "75%        0.000000        0.000000\n",
      "max       13.000000        3.000000\n",
      "\n",
      "CV\n",
      "Original : 5.26    Fitting : 3.69\n",
      "\n",
      "\n",
      "\n",
      "5 : \n",
      "           Original         Fitting\n",
      "count  18052.000000  1000000.000000\n",
      "mean       0.064868        0.065279\n",
      "std        0.320918        0.249202\n",
      "min        0.000000        0.000000\n",
      "25%        0.000000        0.000000\n",
      "50%        0.000000        0.000000\n",
      "75%        0.000000        0.000000\n",
      "max        9.000000        3.000000\n",
      "\n",
      "CV\n",
      "Original : 4.95    Fitting : 3.82\n",
      "\n",
      "\n",
      "\n",
      "Process finished in 130.67212343215942 sec\n"
     ]
    }
   ],
   "source": [
    "dist_list_iat, params_list_iat = CSD.distribution_finder(csd.iat, quantile = None, accuracy = 0.001, _round = True)"
   ]
  },
  {
   "cell_type": "markdown",
   "metadata": {},
   "source": [
    "마찬가지로, 피팅한 함수를 이용해 직접 난수를 발생시키고 싶다면 아래 코드를 참고하면 된다.\n",
    "distribution_finder 함수에서 반환한 분포와 파라미터 리스트 중 원하는 분포와 리스트만 선택해 아래 코드를 그대로 사용하면 된다."
   ]
  },
  {
   "cell_type": "code",
   "execution_count": 18,
   "metadata": {},
   "outputs": [
    {
     "name": "stdout",
     "output_type": "stream",
     "text": [
      "CV : 3.97\n"
     ]
    },
    {
     "data": {
      "text/plain": [
       "count    1000000.000000\n",
       "mean           0.060710\n",
       "std            0.240766\n",
       "min            0.000000\n",
       "25%            0.000000\n",
       "50%            0.000000\n",
       "75%            0.000000\n",
       "max            3.000000\n",
       "dtype: float64"
      ]
     },
     "execution_count": 18,
     "metadata": {},
     "output_type": "execute_result"
    }
   ],
   "source": [
    "dist = dist_list_iat[0] #위의 distribution_finder 함수에서 반환한 분포함수들의 리스트에서 원하는 함수 선택\n",
    "params = params_list_iat[0] #위의 distribution_finder 함수에서 반환한 파라미터들의 리스트에서 원하는 파라미터 선택\n",
    "\n",
    "#이 부분은 그냥 따라하면 된다\n",
    "arg = params[:-2]\n",
    "loc = params[-2]\n",
    "scale = params[-1]\n",
    "#선택한 분포에 따른 난수 생성\n",
    "a = dist.rvs(arg, loc, scale, size = 1000000)\n",
    "a = a[a > 0] # 처리 옵션 : nonnegative\n",
    "a = np.round(a) # 처리 옵션 : 반올림\n",
    "\n",
    "#데이터 타입을 pd.Series로 변환하여 난수가 제대로 발생됐는지 확인\n",
    "a = pd.Series(a)\n",
    "print(\"CV : \" + str(round(a.std() / a.mean(),2)))\n",
    "a.describe()"
   ]
  },
  {
   "cell_type": "markdown",
   "metadata": {},
   "source": []
  },
  {
   "cell_type": "markdown",
   "metadata": {},
   "source": [
    "### 부록 - cal_result\n",
    "\n",
    "CSD안에는 cal_result 라는 함수가 존재한다. 이를 통해 한 공정의 기본 변수를 입력하기만 하면 해당 공정의 CT, WIP를 자동으로 계산해 반환해준다.\n",
    "비슷하게 여러개의 연속된 공정의 기본 변수를 입력하면 각 공정의 CT, WIP를 계산해주는 cal_result_table 이라는 함수도 존재한다. 각 함수의 input, output은 다음과 같다.\n",
    "\n",
    "1. cal_result\n",
    "input : te, ce, ra, ca, u, m\n",
    "output : CTq, CT, WIPq, WIP\n",
    "\n",
    "2. cal_result_table\n",
    "input : var_table, process_names\n",
    "output : result_table"
   ]
  },
  {
   "cell_type": "code",
   "execution_count": null,
   "metadata": {},
   "outputs": [],
   "source": []
  },
  {
   "cell_type": "code",
   "execution_count": null,
   "metadata": {},
   "outputs": [],
   "source": []
  },
  {
   "cell_type": "code",
   "execution_count": null,
   "metadata": {},
   "outputs": [],
   "source": []
  }
 ],
 "metadata": {
  "kernelspec": {
   "display_name": "Python 3",
   "language": "python",
   "name": "python3"
  },
  "language_info": {
   "codemirror_mode": {
    "name": "ipython",
    "version": 3
   },
   "file_extension": ".py",
   "mimetype": "text/x-python",
   "name": "python",
   "nbconvert_exporter": "python",
   "pygments_lexer": "ipython3",
   "version": "3.7.6"
  }
 },
 "nbformat": 4,
 "nbformat_minor": 2
}
