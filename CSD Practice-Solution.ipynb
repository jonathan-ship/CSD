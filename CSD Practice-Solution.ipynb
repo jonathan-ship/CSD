{
 "cells": [
  {
   "cell_type": "markdown",
   "metadata": {},
   "source": [
    "\n",
    "# CSD 실습 문제 답안\n"
   ]
  },
  {
   "cell_type": "code",
   "execution_count": 1,
   "metadata": {},
   "outputs": [],
   "source": [
    "import numpy as np\n",
    "import pandas as pd\n",
    "import scipy.stats as st\n",
    "import statsmodels as sm\n",
    "import matplotlib\n",
    "import matplotlib.pyplot as plt\n",
    "import warnings\n",
    "import time"
   ]
  },
  {
   "cell_type": "code",
   "execution_count": 2,
   "metadata": {},
   "outputs": [],
   "source": [
    "import CSD"
   ]
  },
  {
   "cell_type": "markdown",
   "metadata": {},
   "source": [
    "## 1. 계산 실행\n",
    "\n",
    "'block_transfer_list_Raw_Data.csv' 예제 파일을 분석하고 결과를 출력해보자.\n",
    "\n",
    "#### 입력 조건\n",
    "\n",
    "1. 분석 대상 공정 시작 날짜, 끝 날짜 칼럼 이름 :\n",
    "SD = ['ASSY_ACTL_SD','OFT_ACTL_SD','PNT_ACTL_SD']\n",
    "FD = ['ASSY_ACTL_FD','OFT_ACTL_FD','PNT_ACTL_FD']\n",
    "\n",
    "2. 공정 이름 :\n",
    "process_names = ['ASSY_ACTL','OFT_ACTL','PNT_ACTL']\n",
    "\n",
    "3. 기계 대수 : 310대, 275대, 250대\n",
    "\n",
    "4. 분석 기간 : 2012년 1월 1일 - 2016년 1월 1일\n",
    "\n"
   ]
  },
  {
   "cell_type": "code",
   "execution_count": 3,
   "metadata": {},
   "outputs": [],
   "source": [
    "csv_name = 'block_transfer_list_Raw_Data.csv'\n",
    "SD = ['ASSY_ACTL_SD','OFT_ACTL_SD','PNT_ACTL_SD']\n",
    "FD = ['ASSY_ACTL_FD','OFT_ACTL_FD','PNT_ACTL_FD']\n",
    "process_names = ['ASSY_ACTL','OFT_ACTL','PNT_ACTL']\n",
    "set_m = [310, 275, 250]"
   ]
  },
  {
   "cell_type": "code",
   "execution_count": 4,
   "metadata": {},
   "outputs": [
    {
     "name": "stdout",
     "output_type": "stream",
     "text": [
      "2.6124401092529297\n"
     ]
    }
   ],
   "source": [
    "temp = time.time()\n",
    "csd = CSD.CSD_Calculator(csv_name, start_dates = SD, final_dates = FD, set_m = set_m, set_u = None,\n",
    "                 process_names = process_names, time_range = [20120101, 20160101], del_nan = True, del_inconsistency = True)\n",
    "print(time.time() - temp)"
   ]
  },
  {
   "cell_type": "markdown",
   "metadata": {},
   "source": [
    "## 2. 결과 출력\n",
    "\n",
    "#### 출력 대상\n",
    "\n",
    "1. var_table\n",
    "2. result_table\n",
    "3. df_dates\n",
    "4. df_te\n",
    "5. iat"
   ]
  },
  {
   "cell_type": "markdown",
   "metadata": {},
   "source": [
    "### 1) var_table"
   ]
  },
  {
   "cell_type": "code",
   "execution_count": 5,
   "metadata": {},
   "outputs": [
    {
     "data": {
      "text/html": [
       "<div>\n",
       "<style scoped>\n",
       "    .dataframe tbody tr th:only-of-type {\n",
       "        vertical-align: middle;\n",
       "    }\n",
       "\n",
       "    .dataframe tbody tr th {\n",
       "        vertical-align: top;\n",
       "    }\n",
       "\n",
       "    .dataframe thead th {\n",
       "        text-align: right;\n",
       "    }\n",
       "</style>\n",
       "<table border=\"1\" class=\"dataframe\">\n",
       "  <thead>\n",
       "    <tr style=\"text-align: right;\">\n",
       "      <th></th>\n",
       "      <th>ASSY_ACTL</th>\n",
       "      <th>OFT_ACTL</th>\n",
       "      <th>PNT_ACTL</th>\n",
       "    </tr>\n",
       "  </thead>\n",
       "  <tbody>\n",
       "    <tr>\n",
       "      <th>Ra</th>\n",
       "      <td>11.9712</td>\n",
       "      <td>11.9712</td>\n",
       "      <td>11.9712</td>\n",
       "    </tr>\n",
       "    <tr>\n",
       "      <th>Ca</th>\n",
       "      <td>3.47665</td>\n",
       "      <td>7.30993</td>\n",
       "      <td>6.90088</td>\n",
       "    </tr>\n",
       "    <tr>\n",
       "      <th>Te</th>\n",
       "      <td>17.189</td>\n",
       "      <td>15.9965</td>\n",
       "      <td>12.838</td>\n",
       "    </tr>\n",
       "    <tr>\n",
       "      <th>Ce</th>\n",
       "      <td>1.26909</td>\n",
       "      <td>1.47839</td>\n",
       "      <td>0.658405</td>\n",
       "    </tr>\n",
       "    <tr>\n",
       "      <th>Rd</th>\n",
       "      <td>8.28951</td>\n",
       "      <td>9.61784</td>\n",
       "      <td>10.4712</td>\n",
       "    </tr>\n",
       "    <tr>\n",
       "      <th>Cd</th>\n",
       "      <td>37.7186</td>\n",
       "      <td>12.7912</td>\n",
       "      <td>6.72059</td>\n",
       "    </tr>\n",
       "    <tr>\n",
       "      <th>m</th>\n",
       "      <td>310</td>\n",
       "      <td>275</td>\n",
       "      <td>250</td>\n",
       "    </tr>\n",
       "    <tr>\n",
       "      <th>u</th>\n",
       "      <td>0.663786</td>\n",
       "      <td>0.696355</td>\n",
       "      <td>0.614745</td>\n",
       "    </tr>\n",
       "  </tbody>\n",
       "</table>\n",
       "</div>"
      ],
      "text/plain": [
       "   ASSY_ACTL  OFT_ACTL  PNT_ACTL\n",
       "Ra   11.9712   11.9712   11.9712\n",
       "Ca   3.47665   7.30993   6.90088\n",
       "Te    17.189   15.9965    12.838\n",
       "Ce   1.26909   1.47839  0.658405\n",
       "Rd   8.28951   9.61784   10.4712\n",
       "Cd   37.7186   12.7912   6.72059\n",
       "m        310       275       250\n",
       "u   0.663786  0.696355  0.614745"
      ]
     },
     "execution_count": 5,
     "metadata": {},
     "output_type": "execute_result"
    }
   ],
   "source": [
    "csd.var_table"
   ]
  },
  {
   "cell_type": "markdown",
   "metadata": {},
   "source": [
    "### 2) result_table"
   ]
  },
  {
   "cell_type": "code",
   "execution_count": 6,
   "metadata": {},
   "outputs": [
    {
     "data": {
      "text/html": [
       "<div>\n",
       "<style scoped>\n",
       "    .dataframe tbody tr th:only-of-type {\n",
       "        vertical-align: middle;\n",
       "    }\n",
       "\n",
       "    .dataframe tbody tr th {\n",
       "        vertical-align: top;\n",
       "    }\n",
       "\n",
       "    .dataframe thead th {\n",
       "        text-align: right;\n",
       "    }\n",
       "</style>\n",
       "<table border=\"1\" class=\"dataframe\">\n",
       "  <thead>\n",
       "    <tr style=\"text-align: right;\">\n",
       "      <th></th>\n",
       "      <th>ASSY_ACTL</th>\n",
       "      <th>OFT_ACTL</th>\n",
       "      <th>PNT_ACTL</th>\n",
       "    </tr>\n",
       "  </thead>\n",
       "  <tbody>\n",
       "    <tr>\n",
       "      <th>CTq</th>\n",
       "      <td>6.1981e-05</td>\n",
       "      <td>0.000262473</td>\n",
       "      <td>9.33449e-06</td>\n",
       "    </tr>\n",
       "    <tr>\n",
       "      <th>CT</th>\n",
       "      <td>17.1891</td>\n",
       "      <td>15.9968</td>\n",
       "      <td>12.838</td>\n",
       "    </tr>\n",
       "    <tr>\n",
       "      <th>WIPq</th>\n",
       "      <td>0.000741987</td>\n",
       "      <td>0.00314212</td>\n",
       "      <td>0.000111745</td>\n",
       "    </tr>\n",
       "    <tr>\n",
       "      <th>WIP</th>\n",
       "      <td>205.774</td>\n",
       "      <td>191.501</td>\n",
       "      <td>153.686</td>\n",
       "    </tr>\n",
       "  </tbody>\n",
       "</table>\n",
       "</div>"
      ],
      "text/plain": [
       "        ASSY_ACTL     OFT_ACTL     PNT_ACTL\n",
       "CTq    6.1981e-05  0.000262473  9.33449e-06\n",
       "CT        17.1891      15.9968       12.838\n",
       "WIPq  0.000741987   0.00314212  0.000111745\n",
       "WIP       205.774      191.501      153.686"
      ]
     },
     "execution_count": 6,
     "metadata": {},
     "output_type": "execute_result"
    }
   ],
   "source": [
    "csd.result_table"
   ]
  },
  {
   "cell_type": "markdown",
   "metadata": {},
   "source": [
    "### 3) df_dates"
   ]
  },
  {
   "cell_type": "code",
   "execution_count": 7,
   "metadata": {},
   "outputs": [
    {
     "data": {
      "text/html": [
       "<div>\n",
       "<style scoped>\n",
       "    .dataframe tbody tr th:only-of-type {\n",
       "        vertical-align: middle;\n",
       "    }\n",
       "\n",
       "    .dataframe tbody tr th {\n",
       "        vertical-align: top;\n",
       "    }\n",
       "\n",
       "    .dataframe thead th {\n",
       "        text-align: right;\n",
       "    }\n",
       "</style>\n",
       "<table border=\"1\" class=\"dataframe\">\n",
       "  <thead>\n",
       "    <tr style=\"text-align: right;\">\n",
       "      <th></th>\n",
       "      <th>ASSY_ACTL_SD_S</th>\n",
       "      <th>OFT_ACTL_SD_S</th>\n",
       "      <th>PNT_ACTL_SD_S</th>\n",
       "      <th>ASSY_ACTL_FD_F</th>\n",
       "      <th>OFT_ACTL_FD_F</th>\n",
       "      <th>PNT_ACTL_FD_F</th>\n",
       "    </tr>\n",
       "  </thead>\n",
       "  <tbody>\n",
       "    <tr>\n",
       "      <th>8040</th>\n",
       "      <td>2012-02-14</td>\n",
       "      <td>2012-01-30</td>\n",
       "      <td>2012-05-18</td>\n",
       "      <td>2012-03-14</td>\n",
       "      <td>2012-02-08</td>\n",
       "      <td>2012-06-08</td>\n",
       "    </tr>\n",
       "    <tr>\n",
       "      <th>8175</th>\n",
       "      <td>2012-01-04</td>\n",
       "      <td>2012-02-20</td>\n",
       "      <td>2012-02-23</td>\n",
       "      <td>2012-02-23</td>\n",
       "      <td>2012-02-20</td>\n",
       "      <td>2012-02-27</td>\n",
       "    </tr>\n",
       "    <tr>\n",
       "      <th>8176</th>\n",
       "      <td>2012-01-05</td>\n",
       "      <td>2012-02-13</td>\n",
       "      <td>2012-02-15</td>\n",
       "      <td>2012-02-09</td>\n",
       "      <td>2012-02-14</td>\n",
       "      <td>2012-02-20</td>\n",
       "    </tr>\n",
       "    <tr>\n",
       "      <th>8177</th>\n",
       "      <td>2012-01-02</td>\n",
       "      <td>2012-02-20</td>\n",
       "      <td>2012-02-22</td>\n",
       "      <td>2012-02-21</td>\n",
       "      <td>2012-02-21</td>\n",
       "      <td>2012-02-27</td>\n",
       "    </tr>\n",
       "    <tr>\n",
       "      <th>8180</th>\n",
       "      <td>2012-02-09</td>\n",
       "      <td>2012-02-15</td>\n",
       "      <td>2012-02-22</td>\n",
       "      <td>2012-02-14</td>\n",
       "      <td>2012-02-17</td>\n",
       "      <td>2012-02-29</td>\n",
       "    </tr>\n",
       "  </tbody>\n",
       "</table>\n",
       "</div>"
      ],
      "text/plain": [
       "     ASSY_ACTL_SD_S OFT_ACTL_SD_S PNT_ACTL_SD_S ASSY_ACTL_FD_F OFT_ACTL_FD_F  \\\n",
       "8040     2012-02-14    2012-01-30    2012-05-18     2012-03-14    2012-02-08   \n",
       "8175     2012-01-04    2012-02-20    2012-02-23     2012-02-23    2012-02-20   \n",
       "8176     2012-01-05    2012-02-13    2012-02-15     2012-02-09    2012-02-14   \n",
       "8177     2012-01-02    2012-02-20    2012-02-22     2012-02-21    2012-02-21   \n",
       "8180     2012-02-09    2012-02-15    2012-02-22     2012-02-14    2012-02-17   \n",
       "\n",
       "     PNT_ACTL_FD_F  \n",
       "8040    2012-06-08  \n",
       "8175    2012-02-27  \n",
       "8176    2012-02-20  \n",
       "8177    2012-02-27  \n",
       "8180    2012-02-29  "
      ]
     },
     "execution_count": 7,
     "metadata": {},
     "output_type": "execute_result"
    }
   ],
   "source": [
    "csd.df_dates.head()"
   ]
  },
  {
   "cell_type": "code",
   "execution_count": 8,
   "metadata": {},
   "outputs": [
    {
     "data": {
      "text/html": [
       "<div>\n",
       "<style scoped>\n",
       "    .dataframe tbody tr th:only-of-type {\n",
       "        vertical-align: middle;\n",
       "    }\n",
       "\n",
       "    .dataframe tbody tr th {\n",
       "        vertical-align: top;\n",
       "    }\n",
       "\n",
       "    .dataframe thead th {\n",
       "        text-align: right;\n",
       "    }\n",
       "</style>\n",
       "<table border=\"1\" class=\"dataframe\">\n",
       "  <thead>\n",
       "    <tr style=\"text-align: right;\">\n",
       "      <th></th>\n",
       "      <th>ASSY_ACTL_SD_S</th>\n",
       "      <th>OFT_ACTL_SD_S</th>\n",
       "      <th>PNT_ACTL_SD_S</th>\n",
       "      <th>ASSY_ACTL_FD_F</th>\n",
       "      <th>OFT_ACTL_FD_F</th>\n",
       "      <th>PNT_ACTL_FD_F</th>\n",
       "    </tr>\n",
       "  </thead>\n",
       "  <tbody>\n",
       "    <tr>\n",
       "      <th>count</th>\n",
       "      <td>17467</td>\n",
       "      <td>17467</td>\n",
       "      <td>17467</td>\n",
       "      <td>17467</td>\n",
       "      <td>17467</td>\n",
       "      <td>17467</td>\n",
       "    </tr>\n",
       "    <tr>\n",
       "      <th>unique</th>\n",
       "      <td>1409</td>\n",
       "      <td>1389</td>\n",
       "      <td>1168</td>\n",
       "      <td>1112</td>\n",
       "      <td>1335</td>\n",
       "      <td>1235</td>\n",
       "    </tr>\n",
       "    <tr>\n",
       "      <th>top</th>\n",
       "      <td>2015-11-20 00:00:00</td>\n",
       "      <td>2015-12-14 00:00:00</td>\n",
       "      <td>2015-01-11 00:00:00</td>\n",
       "      <td>2015-08-31 00:00:00</td>\n",
       "      <td>2015-11-30 00:00:00</td>\n",
       "      <td>2015-11-30 00:00:00</td>\n",
       "    </tr>\n",
       "    <tr>\n",
       "      <th>freq</th>\n",
       "      <td>55</td>\n",
       "      <td>59</td>\n",
       "      <td>50</td>\n",
       "      <td>101</td>\n",
       "      <td>76</td>\n",
       "      <td>68</td>\n",
       "    </tr>\n",
       "    <tr>\n",
       "      <th>first</th>\n",
       "      <td>2012-01-02 00:00:00</td>\n",
       "      <td>2011-12-09 00:00:00</td>\n",
       "      <td>2011-12-23 00:00:00</td>\n",
       "      <td>2012-01-06 00:00:00</td>\n",
       "      <td>2012-01-07 00:00:00</td>\n",
       "      <td>2012-01-19 00:00:00</td>\n",
       "    </tr>\n",
       "    <tr>\n",
       "      <th>last</th>\n",
       "      <td>2015-12-31 00:00:00</td>\n",
       "      <td>2016-07-12 00:00:00</td>\n",
       "      <td>2016-07-26 00:00:00</td>\n",
       "      <td>2017-10-13 00:00:00</td>\n",
       "      <td>2016-12-27 00:00:00</td>\n",
       "      <td>2016-08-13 00:00:00</td>\n",
       "    </tr>\n",
       "  </tbody>\n",
       "</table>\n",
       "</div>"
      ],
      "text/plain": [
       "             ASSY_ACTL_SD_S        OFT_ACTL_SD_S        PNT_ACTL_SD_S  \\\n",
       "count                 17467                17467                17467   \n",
       "unique                 1409                 1389                 1168   \n",
       "top     2015-11-20 00:00:00  2015-12-14 00:00:00  2015-01-11 00:00:00   \n",
       "freq                     55                   59                   50   \n",
       "first   2012-01-02 00:00:00  2011-12-09 00:00:00  2011-12-23 00:00:00   \n",
       "last    2015-12-31 00:00:00  2016-07-12 00:00:00  2016-07-26 00:00:00   \n",
       "\n",
       "             ASSY_ACTL_FD_F        OFT_ACTL_FD_F        PNT_ACTL_FD_F  \n",
       "count                 17467                17467                17467  \n",
       "unique                 1112                 1335                 1235  \n",
       "top     2015-08-31 00:00:00  2015-11-30 00:00:00  2015-11-30 00:00:00  \n",
       "freq                    101                   76                   68  \n",
       "first   2012-01-06 00:00:00  2012-01-07 00:00:00  2012-01-19 00:00:00  \n",
       "last    2017-10-13 00:00:00  2016-12-27 00:00:00  2016-08-13 00:00:00  "
      ]
     },
     "execution_count": 8,
     "metadata": {},
     "output_type": "execute_result"
    }
   ],
   "source": [
    "csd.df_dates.describe()"
   ]
  },
  {
   "cell_type": "markdown",
   "metadata": {},
   "source": [
    "### 4) df_te"
   ]
  },
  {
   "cell_type": "code",
   "execution_count": 9,
   "metadata": {
    "scrolled": true
   },
   "outputs": [
    {
     "data": {
      "text/html": [
       "<div>\n",
       "<style scoped>\n",
       "    .dataframe tbody tr th:only-of-type {\n",
       "        vertical-align: middle;\n",
       "    }\n",
       "\n",
       "    .dataframe tbody tr th {\n",
       "        vertical-align: top;\n",
       "    }\n",
       "\n",
       "    .dataframe thead th {\n",
       "        text-align: right;\n",
       "    }\n",
       "</style>\n",
       "<table border=\"1\" class=\"dataframe\">\n",
       "  <thead>\n",
       "    <tr style=\"text-align: right;\">\n",
       "      <th></th>\n",
       "      <th>ASSY_ACTL</th>\n",
       "      <th>OFT_ACTL</th>\n",
       "      <th>PNT_ACTL</th>\n",
       "    </tr>\n",
       "  </thead>\n",
       "  <tbody>\n",
       "    <tr>\n",
       "      <th>8040</th>\n",
       "      <td>30.0</td>\n",
       "      <td>10.0</td>\n",
       "      <td>22.0</td>\n",
       "    </tr>\n",
       "    <tr>\n",
       "      <th>8175</th>\n",
       "      <td>51.0</td>\n",
       "      <td>1.0</td>\n",
       "      <td>5.0</td>\n",
       "    </tr>\n",
       "    <tr>\n",
       "      <th>8176</th>\n",
       "      <td>36.0</td>\n",
       "      <td>2.0</td>\n",
       "      <td>6.0</td>\n",
       "    </tr>\n",
       "    <tr>\n",
       "      <th>8177</th>\n",
       "      <td>51.0</td>\n",
       "      <td>2.0</td>\n",
       "      <td>6.0</td>\n",
       "    </tr>\n",
       "    <tr>\n",
       "      <th>8180</th>\n",
       "      <td>6.0</td>\n",
       "      <td>3.0</td>\n",
       "      <td>8.0</td>\n",
       "    </tr>\n",
       "  </tbody>\n",
       "</table>\n",
       "</div>"
      ],
      "text/plain": [
       "      ASSY_ACTL  OFT_ACTL  PNT_ACTL\n",
       "8040       30.0      10.0      22.0\n",
       "8175       51.0       1.0       5.0\n",
       "8176       36.0       2.0       6.0\n",
       "8177       51.0       2.0       6.0\n",
       "8180        6.0       3.0       8.0"
      ]
     },
     "execution_count": 9,
     "metadata": {},
     "output_type": "execute_result"
    }
   ],
   "source": [
    "csd.df_te.head()"
   ]
  },
  {
   "cell_type": "markdown",
   "metadata": {},
   "source": [
    "### 5) df_iat"
   ]
  },
  {
   "cell_type": "code",
   "execution_count": 10,
   "metadata": {},
   "outputs": [
    {
     "data": {
      "text/plain": [
       "array([[  0.,   7.,   0.,   0.,   2.,   2.],\n",
       "       [  0.,   5.,   5.,   0.,   0.,   5.],\n",
       "       [  0.,   5.,  16.,   0.,   1.,   0.],\n",
       "       ...,\n",
       "       [  0.,  61.,   9.,   0.,   1.,  18.],\n",
       "       [  0.,   6.,   1.,  17.,  56.,   3.],\n",
       "       [  0.,  50.,  55., 599., 158.,  58.]])"
      ]
     },
     "execution_count": 10,
     "metadata": {},
     "output_type": "execute_result"
    }
   ],
   "source": [
    "csd.iat"
   ]
  },
  {
   "cell_type": "markdown",
   "metadata": {},
   "source": [
    "## ## 원하는 utilization 값 설정\n",
    "\n",
    "위 1번 예제와 모두 같은 설정으로 하되, 원하는 utilization 수준을 95%로 맞추도록 해보자.\n",
    "\n",
    "※ 주의 : 같은 파일, 같은 칼럼을 분석하더라도 새로운 CSD_Calculator 클래스를 생성할 때는 csv_name, start_dates, final_dates를 아래 셀과 같이 다시 지정해 준 후에 생성해야 한다.\n",
    "※ 주의2 : set_u 값은 0과 1 사이 숫자로 해주도록 한다."
   ]
  },
  {
   "cell_type": "code",
   "execution_count": 11,
   "metadata": {},
   "outputs": [],
   "source": [
    "csv_name = 'block_transfer_list_Raw_Data.csv'\n",
    "SD = ['ASSY_ACTL_SD','OFT_ACTL_SD','PNT_ACTL_SD']\n",
    "FD = ['ASSY_ACTL_FD','OFT_ACTL_FD','PNT_ACTL_FD']\n",
    "process_names = ['ASSY_ACTL','OFT_ACTL','PNT_ACTL']\n",
    "set_u = 0.95"
   ]
  },
  {
   "cell_type": "code",
   "execution_count": 12,
   "metadata": {},
   "outputs": [
    {
     "name": "stdout",
     "output_type": "stream",
     "text": [
      "2.5874249935150146\n"
     ]
    }
   ],
   "source": [
    "### 원하는 utilization을 맞춰주는 기능\n",
    "temp = time.time()\n",
    "csd = CSD.CSD_Calculator(csv_name, start_dates = SD, final_dates = FD, set_m = None, set_u = set_u,\n",
    "                 process_names = process_names, time_range = [20120101, 20160101], del_nan = True, del_inconsistency = True)\n",
    "print(time.time() - temp)"
   ]
  },
  {
   "cell_type": "markdown",
   "metadata": {},
   "source": [
    "utilization이 0.9로 잘 맞춰졌는지 확인하기 위해 var_table을 호출해보자."
   ]
  },
  {
   "cell_type": "code",
   "execution_count": 13,
   "metadata": {},
   "outputs": [
    {
     "data": {
      "text/html": [
       "<div>\n",
       "<style scoped>\n",
       "    .dataframe tbody tr th:only-of-type {\n",
       "        vertical-align: middle;\n",
       "    }\n",
       "\n",
       "    .dataframe tbody tr th {\n",
       "        vertical-align: top;\n",
       "    }\n",
       "\n",
       "    .dataframe thead th {\n",
       "        text-align: right;\n",
       "    }\n",
       "</style>\n",
       "<table border=\"1\" class=\"dataframe\">\n",
       "  <thead>\n",
       "    <tr style=\"text-align: right;\">\n",
       "      <th></th>\n",
       "      <th>ASSY_ACTL</th>\n",
       "      <th>OFT_ACTL</th>\n",
       "      <th>PNT_ACTL</th>\n",
       "    </tr>\n",
       "  </thead>\n",
       "  <tbody>\n",
       "    <tr>\n",
       "      <th>Ra</th>\n",
       "      <td>11.9712</td>\n",
       "      <td>11.9712</td>\n",
       "      <td>11.9712</td>\n",
       "    </tr>\n",
       "    <tr>\n",
       "      <th>Ca</th>\n",
       "      <td>3.47665</td>\n",
       "      <td>7.30993</td>\n",
       "      <td>6.90088</td>\n",
       "    </tr>\n",
       "    <tr>\n",
       "      <th>Te</th>\n",
       "      <td>17.189</td>\n",
       "      <td>15.9965</td>\n",
       "      <td>12.838</td>\n",
       "    </tr>\n",
       "    <tr>\n",
       "      <th>Ce</th>\n",
       "      <td>1.26909</td>\n",
       "      <td>1.47839</td>\n",
       "      <td>0.658405</td>\n",
       "    </tr>\n",
       "    <tr>\n",
       "      <th>Rd</th>\n",
       "      <td>8.28951</td>\n",
       "      <td>9.61784</td>\n",
       "      <td>10.4712</td>\n",
       "    </tr>\n",
       "    <tr>\n",
       "      <th>Cd</th>\n",
       "      <td>37.7186</td>\n",
       "      <td>12.7912</td>\n",
       "      <td>6.72059</td>\n",
       "    </tr>\n",
       "    <tr>\n",
       "      <th>m</th>\n",
       "      <td>217</td>\n",
       "      <td>202</td>\n",
       "      <td>162</td>\n",
       "    </tr>\n",
       "    <tr>\n",
       "      <th>u</th>\n",
       "      <td>0.948266</td>\n",
       "      <td>0.948008</td>\n",
       "      <td>0.94868</td>\n",
       "    </tr>\n",
       "  </tbody>\n",
       "</table>\n",
       "</div>"
      ],
      "text/plain": [
       "   ASSY_ACTL  OFT_ACTL  PNT_ACTL\n",
       "Ra   11.9712   11.9712   11.9712\n",
       "Ca   3.47665   7.30993   6.90088\n",
       "Te    17.189   15.9965    12.838\n",
       "Ce   1.26909   1.47839  0.658405\n",
       "Rd   8.28951   9.61784   10.4712\n",
       "Cd   37.7186   12.7912   6.72059\n",
       "m        217       202       162\n",
       "u   0.948266  0.948008   0.94868"
      ]
     },
     "execution_count": 13,
     "metadata": {},
     "output_type": "execute_result"
    }
   ],
   "source": [
    "csd.var_table"
   ]
  },
  {
   "cell_type": "markdown",
   "metadata": {},
   "source": [
    "## 3. 분포 함수 피팅"
   ]
  },
  {
   "cell_type": "markdown",
   "metadata": {},
   "source": [
    "각 공정의 작업시간, 첫 번째 공정의 도착간 시간에 대해 분포함수를 피팅하고 각 분포에 대해 100만 개의 난수를 생성해서 확인해보자.\n",
    "\n",
    "#### 입력 조건\n",
    "\n",
    "1. 각 공정 작업시간 : 튜닝 사용, quantile = 0.99, accuracy = 0.01, 반올림 사용\n",
    "2. 첫번째 공정(ASSY_ACTL) 도착간 시간(iat) : 튜닝 사용, quantile = None, accuracy = 0.0001, 반올림 사용\n"
   ]
  },
  {
   "cell_type": "markdown",
   "metadata": {},
   "source": [
    "### 1-1) 각 공정 작업시간 피팅"
   ]
  },
  {
   "cell_type": "code",
   "execution_count": 14,
   "metadata": {
    "scrolled": true
   },
   "outputs": [
    {
     "name": "stdout",
     "output_type": "stream",
     "text": [
      "Distribution 0 is tunning...\n",
      "Tunned error : 0.005551857762180035\n",
      "Distribution 1 is tunning...\n",
      "Tunned error : 0.0004050610545789368\n",
      "Distribution 2 is tunning...\n",
      "Tunned error : 0.008056143316357733\n",
      "\n",
      "\n",
      "\n",
      "Found distributions are :\n",
      "0 : exponnorm(K=6.96, loc=4.92, scale=1.55)\n",
      "1 : gamma(a=0.73, loc=1.00, scale=18.34)\n",
      "2 : exponnorm(K=1.76, loc=7.65, scale=2.63)\n",
      "\n",
      "\n",
      "Comparing original data with fitted distribution\n",
      "0 : \n",
      "           Original        Fitting\n",
      "count  17293.000000  999973.000000\n",
      "mean      15.721159      15.707263\n",
      "std       12.416968      10.898811\n",
      "min        1.000000       0.000000\n",
      "25%        8.000000       8.000000\n",
      "50%       12.000000      13.000000\n",
      "75%       19.000000      20.000000\n",
      "max       87.000000     171.000000\n",
      "\n",
      "CV\n",
      "Original : 0.79    Fitting : 0.69\n",
      "\n",
      "\n",
      "\n",
      "1 : \n",
      "           Original         Fitting\n",
      "count  17296.000000  1000000.000000\n",
      "mean      14.354186       14.340680\n",
      "std       14.926468       15.611064\n",
      "min        1.000000        1.000000\n",
      "25%        4.000000        4.000000\n",
      "50%       10.000000        9.000000\n",
      "75%       20.000000       19.000000\n",
      "max      106.000000      219.000000\n",
      "\n",
      "CV\n",
      "Original : 1.04    Fitting : 1.09\n",
      "\n",
      "\n",
      "\n",
      "2 : \n",
      "           Original        Fitting\n",
      "count  17297.000000  999735.000000\n",
      "mean      12.287853      12.287456\n",
      "std        5.189950       5.332232\n",
      "min        1.000000       0.000000\n",
      "25%        9.000000       9.000000\n",
      "50%       11.000000      11.000000\n",
      "75%       15.000000      15.000000\n",
      "max       36.000000      73.000000\n",
      "\n",
      "CV\n",
      "Original : 0.42    Fitting : 0.43\n",
      "\n",
      "\n",
      "\n",
      "Process finished in 13.257303953170776 sec\n"
     ]
    }
   ],
   "source": [
    "dist_list_te, params_list_te = CSD.distribution_finder(csd.df_te, tunning = True, quantile = 0.99, accuracy = 0.01, _round = True)"
   ]
  },
  {
   "cell_type": "markdown",
   "metadata": {},
   "source": [
    "### 1-2) 피팅한 분포함수로 난수 생성"
   ]
  },
  {
   "cell_type": "code",
   "execution_count": 15,
   "metadata": {},
   "outputs": [
    {
     "name": "stdout",
     "output_type": "stream",
     "text": [
      "CV : 0.7\n",
      "count    999974.000000\n",
      "mean         15.722087\n",
      "std          10.927112\n",
      "min           0.000000\n",
      "25%           8.000000\n",
      "50%          13.000000\n",
      "75%          20.000000\n",
      "max         195.000000\n",
      "dtype: float64\n",
      "\n",
      "\n",
      "\n",
      "CV : 1.09\n",
      "count    1000000.000000\n",
      "mean          14.364770\n",
      "std           15.668585\n",
      "min            1.000000\n",
      "25%            4.000000\n",
      "50%            9.000000\n",
      "75%           19.000000\n",
      "max          239.000000\n",
      "dtype: float64\n",
      "\n",
      "\n",
      "\n",
      "CV : 0.43\n",
      "count    999773.000000\n",
      "mean         12.289943\n",
      "std           5.325152\n",
      "min           0.000000\n",
      "25%           9.000000\n",
      "50%          11.000000\n",
      "75%          15.000000\n",
      "max          71.000000\n",
      "dtype: float64\n",
      "\n",
      "\n",
      "\n"
     ]
    }
   ],
   "source": [
    "random = []\n",
    "\n",
    "for dist, params in zip(dist_list_te, params_list_te) :\n",
    "\n",
    "    arg = params[:-2]\n",
    "    loc = params[-2]\n",
    "    scale = params[-1]\n",
    "\n",
    "    temp = dist.rvs(arg, loc, scale, size = 1000000)\n",
    "    temp = temp[temp > 0] # 처리 옵션 : nonnegative\n",
    "    temp = np.round(temp) # 처리 옵션 : 반올림\n",
    "\n",
    "    temp = pd.Series(temp)\n",
    "    random.append(temp)\n",
    "\n",
    "\n",
    "for rand in random:\n",
    "    print(\"CV : \" + str(round(rand.std() / rand.mean(),2)))\n",
    "    print(rand.describe())\n",
    "    print(\"\\n\\n\")"
   ]
  },
  {
   "cell_type": "markdown",
   "metadata": {},
   "source": [
    "### 2-1) 첫 번째 공정 도착간 시간 피팅"
   ]
  },
  {
   "cell_type": "code",
   "execution_count": 16,
   "metadata": {},
   "outputs": [
    {
     "name": "stdout",
     "output_type": "stream",
     "text": [
      "Distribution 0 is tunning...\n",
      "Tunned error : 4.211508072826664e-05\n",
      "\n",
      "\n",
      "\n",
      "Found distributions are :\n",
      "0 : chi2(df=1.53, loc=-0.00, scale=0.13)\n",
      "\n",
      "\n",
      "Comparing original data with fitted distribution\n",
      "0 : \n",
      "           Original         Fitting\n",
      "count  17466.000000  1000000.000000\n",
      "mean       0.096015        0.096731\n",
      "std        0.701884        0.301351\n",
      "min        0.000000        0.000000\n",
      "25%        0.000000        0.000000\n",
      "50%        0.000000        0.000000\n",
      "75%        0.000000        0.000000\n",
      "max       61.000000        4.000000\n",
      "\n",
      "CV\n",
      "Original : 7.31    Fitting : 3.12\n",
      "\n",
      "\n",
      "\n",
      "Process finished in 11.038495779037476 sec\n"
     ]
    }
   ],
   "source": [
    "dist_list_iat, params_list_iat = CSD.distribution_finder(csd.iat[:,1], tunning = True, quantile = None, accuracy = 0.0001, _round = True)"
   ]
  },
  {
   "cell_type": "code",
   "execution_count": 17,
   "metadata": {},
   "outputs": [
    {
     "name": "stdout",
     "output_type": "stream",
     "text": [
      "CV : 3.1\n"
     ]
    },
    {
     "data": {
      "text/plain": [
       "count    1000000.000000\n",
       "mean           0.097287\n",
       "std            0.302007\n",
       "min            0.000000\n",
       "25%            0.000000\n",
       "50%            0.000000\n",
       "75%            0.000000\n",
       "max            4.000000\n",
       "dtype: float64"
      ]
     },
     "execution_count": 17,
     "metadata": {},
     "output_type": "execute_result"
    }
   ],
   "source": [
    "dist = dist_list_iat[0] #위의 distribution_finder 함수에서 반환한 분포함수들의 리스트에서 원하는 함수 선택\n",
    "params = params_list_iat[0] #위의 distribution_finder 함수에서 반환한 파라미터들의 리스트에서 원하는 파라미터 선택\n",
    "\n",
    "#이 부분은 그냥 따라하면 된다\n",
    "arg = params[:-2]\n",
    "loc = params[-2]\n",
    "scale = params[-1]\n",
    "#선택한 분포에 따른 난수 생성\n",
    "a = dist.rvs(arg, loc, scale, size = 1000000)\n",
    "a = a[a > 0] # 처리 옵션 : nonnegative\n",
    "a = np.round(a) # 처리 옵션 : 반올림\n",
    "\n",
    "#데이터 타입을 pd.Series로 변환하여 난수가 제대로 발생됐는지 확인\n",
    "a = pd.Series(a)\n",
    "print(\"CV : \" + str(round(a.std() / a.mean(),2)))\n",
    "a.describe()"
   ]
  },
  {
   "cell_type": "code",
   "execution_count": null,
   "metadata": {},
   "outputs": [],
   "source": []
  },
  {
   "cell_type": "code",
   "execution_count": null,
   "metadata": {},
   "outputs": [],
   "source": []
  },
  {
   "cell_type": "code",
   "execution_count": null,
   "metadata": {},
   "outputs": [],
   "source": []
  }
 ],
 "metadata": {
  "kernelspec": {
   "display_name": "Python 3",
   "language": "python",
   "name": "python3"
  },
  "language_info": {
   "codemirror_mode": {
    "name": "ipython",
    "version": 3
   },
   "file_extension": ".py",
   "mimetype": "text/x-python",
   "name": "python",
   "nbconvert_exporter": "python",
   "pygments_lexer": "ipython3",
   "version": "3.7.6"
  }
 },
 "nbformat": 4,
 "nbformat_minor": 2
}
