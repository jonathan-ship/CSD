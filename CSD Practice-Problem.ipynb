{
 "cells": [
  {
   "cell_type": "markdown",
   "metadata": {},
   "source": [
    "\n",
    "# CSD 실습 문제\n"
   ]
  },
  {
   "cell_type": "code",
   "execution_count": 1,
   "metadata": {},
   "outputs": [],
   "source": [
    "import numpy as np\n",
    "import pandas as pd\n",
    "import scipy.stats as st\n",
    "import statsmodels as sm\n",
    "import matplotlib\n",
    "import matplotlib.pyplot as plt\n",
    "import warnings\n",
    "import time"
   ]
  },
  {
   "cell_type": "code",
   "execution_count": 2,
   "metadata": {},
   "outputs": [],
   "source": [
    "import CSD"
   ]
  },
  {
   "cell_type": "markdown",
   "metadata": {},
   "source": [
    "## 1. 계산 실행\n",
    "\n",
    "'block_transfer_list_Raw_Data.csv' 예제 파일을 분석하고 결과를 출력해보자.\n",
    "\n",
    "#### 입력 조건\n",
    "\n",
    "1. 분석 대상 공정 시작 날짜, 끝 날짜 칼럼 이름 :\n",
    "SD = ['ASSY_ACTL_SD','OFT_ACTL_SD','PNT_ACTL_SD']\n",
    "FD = ['ASSY_ACTL_FD','OFT_ACTL_FD','PNT_ACTL_FD']\n",
    "\n",
    "2. 공정 이름 :\n",
    "process_names = ['ASSY_ACTL','OFT_ACTL','PNT_ACTL']\n",
    "\n",
    "3. 기계 대수 : 310대, 275대, 250대\n",
    "\n",
    "4. 분석 기간 : 2012년 1월 1일 - 2016년 1월 1일\n",
    "\n"
   ]
  },
  {
   "cell_type": "code",
   "execution_count": null,
   "metadata": {},
   "outputs": [],
   "source": []
  },
  {
   "cell_type": "code",
   "execution_count": null,
   "metadata": {},
   "outputs": [],
   "source": []
  },
  {
   "cell_type": "markdown",
   "metadata": {},
   "source": [
    "## 2. 결과 출력\n",
    "\n",
    "#### 출력 대상\n",
    "\n",
    "1. var_table\n",
    "2. result_table\n",
    "3. df_dates\n",
    "4. df_te\n",
    "5. iat"
   ]
  },
  {
   "cell_type": "markdown",
   "metadata": {},
   "source": [
    "### 1) var_table"
   ]
  },
  {
   "cell_type": "code",
   "execution_count": null,
   "metadata": {},
   "outputs": [],
   "source": []
  },
  {
   "cell_type": "markdown",
   "metadata": {},
   "source": [
    "### 2) result_table"
   ]
  },
  {
   "cell_type": "code",
   "execution_count": null,
   "metadata": {},
   "outputs": [],
   "source": []
  },
  {
   "cell_type": "markdown",
   "metadata": {},
   "source": [
    "### 3) df_dates"
   ]
  },
  {
   "cell_type": "code",
   "execution_count": null,
   "metadata": {},
   "outputs": [],
   "source": []
  },
  {
   "cell_type": "markdown",
   "metadata": {},
   "source": [
    "### 4) df_te"
   ]
  },
  {
   "cell_type": "code",
   "execution_count": null,
   "metadata": {},
   "outputs": [],
   "source": []
  },
  {
   "cell_type": "markdown",
   "metadata": {},
   "source": [
    "### 5) df_iat"
   ]
  },
  {
   "cell_type": "code",
   "execution_count": null,
   "metadata": {},
   "outputs": [],
   "source": []
  },
  {
   "cell_type": "markdown",
   "metadata": {},
   "source": [
    "## ## 원하는 utilization 값 설정\n",
    "\n",
    "위 1번 예제와 모두 같은 설정으로 하되, 원하는 utilization 수준을 95%로 맞추도록 해보자.\n",
    "\n",
    "※ 주의 : 같은 파일, 같은 칼럼을 분석하더라도 새로운 CSD_Calculator 클래스를 생성할 때는 csv_name, start_dates, final_dates를 아래 셀과 같이 다시 지정해 준 후에 생성해야 한다.\n",
    "※ 주의2 : set_u 값은 0과 1 사이 숫자로 해주도록 한다."
   ]
  },
  {
   "cell_type": "code",
   "execution_count": 3,
   "metadata": {},
   "outputs": [],
   "source": [
    "csv_name = 'block_transfer_list_Raw_Data.csv'\n",
    "SD = ['ASSY_ACTL_SD','OFT_ACTL_SD','PNT_ACTL_SD']\n",
    "FD = ['ASSY_ACTL_FD','OFT_ACTL_FD','PNT_ACTL_FD']\n",
    "process_names = ['ASSY_ACTL','OFT_ACTL','PNT_ACTL']\n",
    "set_u = 0.95"
   ]
  },
  {
   "cell_type": "code",
   "execution_count": null,
   "metadata": {},
   "outputs": [],
   "source": []
  },
  {
   "cell_type": "markdown",
   "metadata": {},
   "source": [
    "utilization이 0.95로 잘 맞춰졌는지 확인하기 위해 var_table을 호출해보자."
   ]
  },
  {
   "cell_type": "code",
   "execution_count": null,
   "metadata": {},
   "outputs": [],
   "source": []
  },
  {
   "cell_type": "markdown",
   "metadata": {},
   "source": [
    "## 3. 분포 함수 피팅"
   ]
  },
  {
   "cell_type": "markdown",
   "metadata": {},
   "source": [
    "각 공정의 작업시간, 첫 번째 공정의 도착간 시간에 대해 분포함수를 피팅하고 각 분포에 대해 100만 개의 난수를 생성해서 확인해보자.\n",
    "\n",
    "#### 입력 조건\n",
    "\n",
    "1. 각 공정 작업시간 : 튜닝 사용, quantile = 0.99, accuracy = 0.01, 반올림 사용\n",
    "2. 첫번째 공정(ASSY_ACTL) 도착간 시간(iat) : 튜닝 사용, quantile = None, accuracy = 0.0001, 반올림 사용\n"
   ]
  },
  {
   "cell_type": "markdown",
   "metadata": {},
   "source": [
    "### 1-1) 각 공정 작업시간 피팅"
   ]
  },
  {
   "cell_type": "code",
   "execution_count": null,
   "metadata": {},
   "outputs": [],
   "source": []
  },
  {
   "cell_type": "markdown",
   "metadata": {},
   "source": [
    "### 1-2) 피팅한 분포함수로 난수 생성"
   ]
  },
  {
   "cell_type": "code",
   "execution_count": null,
   "metadata": {},
   "outputs": [],
   "source": []
  },
  {
   "cell_type": "markdown",
   "metadata": {},
   "source": [
    "### 2-1) 첫 번째 공정 도착간 시간 피팅"
   ]
  },
  {
   "cell_type": "code",
   "execution_count": null,
   "metadata": {},
   "outputs": [],
   "source": []
  },
  {
   "cell_type": "markdown",
   "metadata": {},
   "source": [
    "### 2-2) 피팅한 분포함수로 난수 생성"
   ]
  },
  {
   "cell_type": "code",
   "execution_count": null,
   "metadata": {},
   "outputs": [],
   "source": []
  },
  {
   "cell_type": "code",
   "execution_count": null,
   "metadata": {},
   "outputs": [],
   "source": []
  },
  {
   "cell_type": "code",
   "execution_count": null,
   "metadata": {},
   "outputs": [],
   "source": []
  }
 ],
 "metadata": {
  "kernelspec": {
   "display_name": "Python 3",
   "language": "python",
   "name": "python3"
  },
  "language_info": {
   "codemirror_mode": {
    "name": "ipython",
    "version": 3
   },
   "file_extension": ".py",
   "mimetype": "text/x-python",
   "name": "python",
   "nbconvert_exporter": "python",
   "pygments_lexer": "ipython3",
   "version": "3.7.6"
  }
 },
 "nbformat": 4,
 "nbformat_minor": 2
}
